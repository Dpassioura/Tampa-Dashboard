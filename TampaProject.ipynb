{
 "cells": [
  {
   "cell_type": "code",
   "execution_count": 29,
   "id": "dca3c5d9-ba3e-4238-9042-d320dd70d65b",
   "metadata": {},
   "outputs": [],
   "source": [
    "import pandas as pd\n",
    "import matplotlib.pyplot as plt\n",
    "import squarify"
   ]
  },
  {
   "cell_type": "code",
   "execution_count": 30,
   "id": "f0f5db6f-b3a9-4ee5-8bde-a509aa5fe3e3",
   "metadata": {},
   "outputs": [],
   "source": [
    "df_dg = pd.read_csv(r\"C:\\Users\\kingd\\Downloads\\Race and Ethnicity.csv\")"
   ]
  },
  {
   "cell_type": "code",
   "execution_count": 44,
   "id": "52c4a072-e984-456e-be30-227050da6f6b",
   "metadata": {},
   "outputs": [
    {
     "name": "stdout",
     "output_type": "stream",
     "text": [
      "<class 'pandas.core.frame.DataFrame'>\n",
      "RangeIndex: 112 entries, 0 to 111\n",
      "Data columns (total 12 columns):\n",
      " #   Column                   Non-Null Count  Dtype  \n",
      "---  ------                   --------------  -----  \n",
      " 0   ID Race                  112 non-null    int64  \n",
      " 1   Race                     112 non-null    object \n",
      " 2   ID Ethnicity             112 non-null    int64  \n",
      " 3   Ethnicity                112 non-null    object \n",
      " 4   ID Year                  112 non-null    int64  \n",
      " 5   Year                     112 non-null    int64  \n",
      " 6   Hispanic Population Moe  112 non-null    float64\n",
      " 7   Geography                112 non-null    object \n",
      " 8   ID Geography             112 non-null    object \n",
      " 9   Slug Geography           112 non-null    object \n",
      " 10  Population               112 non-null    int64  \n",
      " 11  share                    112 non-null    float64\n",
      "dtypes: float64(2), int64(5), object(5)\n",
      "memory usage: 10.6+ KB\n"
     ]
    }
   ],
   "source": [
    "df_dg.info()"
   ]
  },
  {
   "cell_type": "code",
   "execution_count": 32,
   "id": "eea61bb8-de03-46cf-a9bd-82d590407a81",
   "metadata": {},
   "outputs": [
    {
     "data": {
      "text/plain": [
       "ID Race                    0\n",
       "Race                       0\n",
       "ID Ethnicity               0\n",
       "Ethnicity                  0\n",
       "ID Year                    0\n",
       "Year                       0\n",
       "Hispanic Population Moe    0\n",
       "Geography                  0\n",
       "ID Geography               0\n",
       "Slug Geography             0\n",
       "Population                 0\n",
       "share                      0\n",
       "dtype: int64"
      ]
     },
     "execution_count": 32,
     "metadata": {},
     "output_type": "execute_result"
    }
   ],
   "source": [
    "df_dg.isnull().sum(axis=0)"
   ]
  },
  {
   "cell_type": "code",
   "execution_count": 45,
   "id": "a78a5d68-d449-4e7c-ae2d-b7a51584ae20",
   "metadata": {},
   "outputs": [
    {
     "data": {
      "text/plain": [
       "2020    14\n",
       "2019    14\n",
       "2018    14\n",
       "2017    14\n",
       "2016    14\n",
       "2015    14\n",
       "2014    14\n",
       "2013    14\n",
       "Name: Year, dtype: int64"
      ]
     },
     "execution_count": 45,
     "metadata": {},
     "output_type": "execute_result"
    }
   ],
   "source": [
    "df_dg['Year'].value_counts()"
   ]
  },
  {
   "cell_type": "code",
   "execution_count": 33,
   "id": "c61aab66-7fd0-4849-a09a-be399cecf475",
   "metadata": {},
   "outputs": [],
   "source": [
    "tampa_gdp = pd.read_csv(r\"C:\\Users\\kingd\\Downloads\\gdp_tampa.csv\")"
   ]
  },
  {
   "cell_type": "code",
   "execution_count": 34,
   "id": "4090960b-ca2b-45a4-8fd9-78d7e5176fd5",
   "metadata": {},
   "outputs": [
    {
     "data": {
      "text/html": [
       "<div>\n",
       "<style scoped>\n",
       "    .dataframe tbody tr th:only-of-type {\n",
       "        vertical-align: middle;\n",
       "    }\n",
       "\n",
       "    .dataframe tbody tr th {\n",
       "        vertical-align: top;\n",
       "    }\n",
       "\n",
       "    .dataframe thead th {\n",
       "        text-align: right;\n",
       "    }\n",
       "</style>\n",
       "<table border=\"1\" class=\"dataframe\">\n",
       "  <thead>\n",
       "    <tr style=\"text-align: right;\">\n",
       "      <th></th>\n",
       "      <th>DATE</th>\n",
       "      <th>NGMP45300</th>\n",
       "    </tr>\n",
       "  </thead>\n",
       "  <tbody>\n",
       "    <tr>\n",
       "      <th>0</th>\n",
       "      <td>2001-01-01</td>\n",
       "      <td>80171.426</td>\n",
       "    </tr>\n",
       "    <tr>\n",
       "      <th>1</th>\n",
       "      <td>2002-01-01</td>\n",
       "      <td>85318.547</td>\n",
       "    </tr>\n",
       "    <tr>\n",
       "      <th>2</th>\n",
       "      <td>2003-01-01</td>\n",
       "      <td>91144.945</td>\n",
       "    </tr>\n",
       "    <tr>\n",
       "      <th>3</th>\n",
       "      <td>2004-01-01</td>\n",
       "      <td>99483.963</td>\n",
       "    </tr>\n",
       "    <tr>\n",
       "      <th>4</th>\n",
       "      <td>2005-01-01</td>\n",
       "      <td>107620.219</td>\n",
       "    </tr>\n",
       "  </tbody>\n",
       "</table>\n",
       "</div>"
      ],
      "text/plain": [
       "         DATE   NGMP45300\n",
       "0  2001-01-01   80171.426\n",
       "1  2002-01-01   85318.547\n",
       "2  2003-01-01   91144.945\n",
       "3  2004-01-01   99483.963\n",
       "4  2005-01-01  107620.219"
      ]
     },
     "execution_count": 34,
     "metadata": {},
     "output_type": "execute_result"
    }
   ],
   "source": [
    "tampa_gdp.head()"
   ]
  },
  {
   "cell_type": "code",
   "execution_count": 35,
   "id": "8a35270e-0727-4d3e-a18e-12f7b99bed1b",
   "metadata": {},
   "outputs": [
    {
     "data": {
      "text/plain": [
       "DATE                   0\n",
       "GDP in the Millions    0\n",
       "Year                   0\n",
       "dtype: int64"
      ]
     },
     "execution_count": 35,
     "metadata": {},
     "output_type": "execute_result"
    }
   ],
   "source": [
    "tampa_gdp.rename(columns={'NGMP45300': 'GDP in the Millions'}, inplace=True)\n",
    "tampa_gdp['DATE'] = pd.to_datetime(tampa_gdp['DATE'])\n",
    "tampa_gdp['Year'] = tampa_gdp['DATE'].dt.year\n",
    "tampa_gdp.isnull().sum(axis=0)\n"
   ]
  },
  {
   "cell_type": "code",
   "execution_count": 36,
   "id": "9ccc786c-811f-4d23-9836-33e885751dff",
   "metadata": {},
   "outputs": [
    {
     "data": {
      "text/html": [
       "<div>\n",
       "<style scoped>\n",
       "    .dataframe tbody tr th:only-of-type {\n",
       "        vertical-align: middle;\n",
       "    }\n",
       "\n",
       "    .dataframe tbody tr th {\n",
       "        vertical-align: top;\n",
       "    }\n",
       "\n",
       "    .dataframe thead th {\n",
       "        text-align: right;\n",
       "    }\n",
       "</style>\n",
       "<table border=\"1\" class=\"dataframe\">\n",
       "  <thead>\n",
       "    <tr style=\"text-align: right;\">\n",
       "      <th></th>\n",
       "      <th>GDP in the Millions</th>\n",
       "    </tr>\n",
       "    <tr>\n",
       "      <th>Year</th>\n",
       "      <th></th>\n",
       "    </tr>\n",
       "  </thead>\n",
       "  <tbody>\n",
       "    <tr>\n",
       "      <th>2001</th>\n",
       "      <td>80171.426</td>\n",
       "    </tr>\n",
       "    <tr>\n",
       "      <th>2002</th>\n",
       "      <td>85318.547</td>\n",
       "    </tr>\n",
       "    <tr>\n",
       "      <th>2003</th>\n",
       "      <td>91144.945</td>\n",
       "    </tr>\n",
       "    <tr>\n",
       "      <th>2004</th>\n",
       "      <td>99483.963</td>\n",
       "    </tr>\n",
       "    <tr>\n",
       "      <th>2005</th>\n",
       "      <td>107620.219</td>\n",
       "    </tr>\n",
       "  </tbody>\n",
       "</table>\n",
       "</div>"
      ],
      "text/plain": [
       "      GDP in the Millions\n",
       "Year                     \n",
       "2001            80171.426\n",
       "2002            85318.547\n",
       "2003            91144.945\n",
       "2004            99483.963\n",
       "2005           107620.219"
      ]
     },
     "execution_count": 36,
     "metadata": {},
     "output_type": "execute_result"
    }
   ],
   "source": [
    "tampa_gdp.drop('DATE', axis=1, inplace=True)\n",
    "tampa_gdp.set_index('Year', inplace=True)\n",
    "tampa_gdp.head()"
   ]
  },
  {
   "cell_type": "code",
   "execution_count": 37,
   "id": "de84f7f7-3426-46cc-a8a5-65eab30ff143",
   "metadata": {},
   "outputs": [
    {
     "data": {
      "text/html": [
       "<div>\n",
       "<style scoped>\n",
       "    .dataframe tbody tr th:only-of-type {\n",
       "        vertical-align: middle;\n",
       "    }\n",
       "\n",
       "    .dataframe tbody tr th {\n",
       "        vertical-align: top;\n",
       "    }\n",
       "\n",
       "    .dataframe thead th {\n",
       "        text-align: right;\n",
       "    }\n",
       "</style>\n",
       "<table border=\"1\" class=\"dataframe\">\n",
       "  <thead>\n",
       "    <tr style=\"text-align: right;\">\n",
       "      <th></th>\n",
       "      <th>date</th>\n",
       "      <th>Population</th>\n",
       "      <th>Annual Change</th>\n",
       "    </tr>\n",
       "  </thead>\n",
       "  <tbody>\n",
       "    <tr>\n",
       "      <th>0</th>\n",
       "      <td>12/31/1950</td>\n",
       "      <td>300000</td>\n",
       "      <td>NaN</td>\n",
       "    </tr>\n",
       "    <tr>\n",
       "      <th>1</th>\n",
       "      <td>12/31/1951</td>\n",
       "      <td>323000</td>\n",
       "      <td>7.67</td>\n",
       "    </tr>\n",
       "    <tr>\n",
       "      <th>2</th>\n",
       "      <td>12/31/1952</td>\n",
       "      <td>349000</td>\n",
       "      <td>8.05</td>\n",
       "    </tr>\n",
       "    <tr>\n",
       "      <th>3</th>\n",
       "      <td>12/31/1953</td>\n",
       "      <td>376000</td>\n",
       "      <td>7.74</td>\n",
       "    </tr>\n",
       "    <tr>\n",
       "      <th>4</th>\n",
       "      <td>12/31/1954</td>\n",
       "      <td>405000</td>\n",
       "      <td>7.71</td>\n",
       "    </tr>\n",
       "  </tbody>\n",
       "</table>\n",
       "</div>"
      ],
      "text/plain": [
       "         date   Population   Annual Change\n",
       "0  12/31/1950       300000             NaN\n",
       "1  12/31/1951       323000            7.67\n",
       "2  12/31/1952       349000            8.05\n",
       "3  12/31/1953       376000            7.74\n",
       "4  12/31/1954       405000            7.71"
      ]
     },
     "execution_count": 37,
     "metadata": {},
     "output_type": "execute_result"
    }
   ],
   "source": [
    "tampa_pop = pd.read_csv(r\"C:\\Users\\kingd\\Downloads\\tampa_population.csv\")\n",
    "tampa_pop.head()"
   ]
  },
  {
   "cell_type": "code",
   "execution_count": 38,
   "id": "97dc4e20-faa6-4f65-8a72-0cc8ca2e0235",
   "metadata": {},
   "outputs": [
    {
     "data": {
      "text/plain": [
       "date              0\n",
       " Population       0\n",
       " Annual Change    1\n",
       "dtype: int64"
      ]
     },
     "execution_count": 38,
     "metadata": {},
     "output_type": "execute_result"
    }
   ],
   "source": [
    "tampa_pop['date'] = pd.to_datetime(tampa_pop['date'])\n",
    "tampa_pop['date'] = tampa_pop['date'].dt.year\n",
    "tampa_pop.isnull().sum(axis=0)"
   ]
  },
  {
   "cell_type": "code",
   "execution_count": 39,
   "id": "992074be-f39b-49ed-aac6-20efeaa55817",
   "metadata": {},
   "outputs": [
    {
     "data": {
      "text/html": [
       "<div>\n",
       "<style scoped>\n",
       "    .dataframe tbody tr th:only-of-type {\n",
       "        vertical-align: middle;\n",
       "    }\n",
       "\n",
       "    .dataframe tbody tr th {\n",
       "        vertical-align: top;\n",
       "    }\n",
       "\n",
       "    .dataframe thead th {\n",
       "        text-align: right;\n",
       "    }\n",
       "</style>\n",
       "<table border=\"1\" class=\"dataframe\">\n",
       "  <thead>\n",
       "    <tr style=\"text-align: right;\">\n",
       "      <th></th>\n",
       "      <th>Year</th>\n",
       "      <th>Population</th>\n",
       "      <th>Annual Change</th>\n",
       "    </tr>\n",
       "  </thead>\n",
       "  <tbody>\n",
       "    <tr>\n",
       "      <th>50</th>\n",
       "      <td>2000</td>\n",
       "      <td>2071000</td>\n",
       "      <td>1.87</td>\n",
       "    </tr>\n",
       "    <tr>\n",
       "      <th>51</th>\n",
       "      <td>2001</td>\n",
       "      <td>2106000</td>\n",
       "      <td>1.69</td>\n",
       "    </tr>\n",
       "    <tr>\n",
       "      <th>52</th>\n",
       "      <td>2002</td>\n",
       "      <td>2142000</td>\n",
       "      <td>1.71</td>\n",
       "    </tr>\n",
       "    <tr>\n",
       "      <th>53</th>\n",
       "      <td>2003</td>\n",
       "      <td>2179000</td>\n",
       "      <td>1.73</td>\n",
       "    </tr>\n",
       "    <tr>\n",
       "      <th>54</th>\n",
       "      <td>2004</td>\n",
       "      <td>2216000</td>\n",
       "      <td>1.70</td>\n",
       "    </tr>\n",
       "  </tbody>\n",
       "</table>\n",
       "</div>"
      ],
      "text/plain": [
       "    Year   Population   Annual Change\n",
       "50  2000      2071000            1.87\n",
       "51  2001      2106000            1.69\n",
       "52  2002      2142000            1.71\n",
       "53  2003      2179000            1.73\n",
       "54  2004      2216000            1.70"
      ]
     },
     "execution_count": 39,
     "metadata": {},
     "output_type": "execute_result"
    }
   ],
   "source": [
    "df2000pop = tampa_pop[tampa_pop['date'] >= 2000]\n",
    "df2000pop = df2000pop.rename(columns={'date': 'Year'})\n",
    "df2000pop.head()"
   ]
  },
  {
   "cell_type": "code",
   "execution_count": 40,
   "id": "2623b8ae-8f0f-4ec4-ad7f-0906b21cb7c8",
   "metadata": {},
   "outputs": [
    {
     "data": {
      "text/html": [
       "<div>\n",
       "<style scoped>\n",
       "    .dataframe tbody tr th:only-of-type {\n",
       "        vertical-align: middle;\n",
       "    }\n",
       "\n",
       "    .dataframe tbody tr th {\n",
       "        vertical-align: top;\n",
       "    }\n",
       "\n",
       "    .dataframe thead th {\n",
       "        text-align: right;\n",
       "    }\n",
       "</style>\n",
       "<table border=\"1\" class=\"dataframe\">\n",
       "  <thead>\n",
       "    <tr style=\"text-align: right;\">\n",
       "      <th></th>\n",
       "      <th>DATE</th>\n",
       "      <th>ATNHPIUS45300Q</th>\n",
       "    </tr>\n",
       "  </thead>\n",
       "  <tbody>\n",
       "    <tr>\n",
       "      <th>0</th>\n",
       "      <td>1976-04-01</td>\n",
       "      <td>40.33</td>\n",
       "    </tr>\n",
       "    <tr>\n",
       "      <th>1</th>\n",
       "      <td>1976-07-01</td>\n",
       "      <td>43.37</td>\n",
       "    </tr>\n",
       "    <tr>\n",
       "      <th>2</th>\n",
       "      <td>1976-10-01</td>\n",
       "      <td>43.64</td>\n",
       "    </tr>\n",
       "    <tr>\n",
       "      <th>3</th>\n",
       "      <td>1977-01-01</td>\n",
       "      <td>42.07</td>\n",
       "    </tr>\n",
       "    <tr>\n",
       "      <th>4</th>\n",
       "      <td>1977-04-01</td>\n",
       "      <td>44.85</td>\n",
       "    </tr>\n",
       "  </tbody>\n",
       "</table>\n",
       "</div>"
      ],
      "text/plain": [
       "         DATE  ATNHPIUS45300Q\n",
       "0  1976-04-01           40.33\n",
       "1  1976-07-01           43.37\n",
       "2  1976-10-01           43.64\n",
       "3  1977-01-01           42.07\n",
       "4  1977-04-01           44.85"
      ]
     },
     "execution_count": 40,
     "metadata": {},
     "output_type": "execute_result"
    }
   ],
   "source": [
    "tampa_housing = pd.read_csv(r\"C:\\Users\\kingd\\Downloads\\tampa-housing.csv\")\n",
    "tampa_housing.head()"
   ]
  },
  {
   "cell_type": "code",
   "execution_count": 41,
   "id": "69b919be-5630-4992-8025-f00b6fd327ae",
   "metadata": {},
   "outputs": [
    {
     "data": {
      "text/html": [
       "<div>\n",
       "<style scoped>\n",
       "    .dataframe tbody tr th:only-of-type {\n",
       "        vertical-align: middle;\n",
       "    }\n",
       "\n",
       "    .dataframe tbody tr th {\n",
       "        vertical-align: top;\n",
       "    }\n",
       "\n",
       "    .dataframe thead th {\n",
       "        text-align: right;\n",
       "    }\n",
       "</style>\n",
       "<table border=\"1\" class=\"dataframe\">\n",
       "  <thead>\n",
       "    <tr style=\"text-align: right;\">\n",
       "      <th></th>\n",
       "      <th>Year</th>\n",
       "      <th>House Price Index</th>\n",
       "    </tr>\n",
       "  </thead>\n",
       "  <tbody>\n",
       "    <tr>\n",
       "      <th>0</th>\n",
       "      <td>2000</td>\n",
       "      <td>130.3275</td>\n",
       "    </tr>\n",
       "    <tr>\n",
       "      <th>1</th>\n",
       "      <td>2001</td>\n",
       "      <td>144.1175</td>\n",
       "    </tr>\n",
       "    <tr>\n",
       "      <th>2</th>\n",
       "      <td>2002</td>\n",
       "      <td>157.1775</td>\n",
       "    </tr>\n",
       "    <tr>\n",
       "      <th>3</th>\n",
       "      <td>2003</td>\n",
       "      <td>171.2350</td>\n",
       "    </tr>\n",
       "    <tr>\n",
       "      <th>4</th>\n",
       "      <td>2004</td>\n",
       "      <td>197.8200</td>\n",
       "    </tr>\n",
       "  </tbody>\n",
       "</table>\n",
       "</div>"
      ],
      "text/plain": [
       "   Year  House Price Index\n",
       "0  2000           130.3275\n",
       "1  2001           144.1175\n",
       "2  2002           157.1775\n",
       "3  2003           171.2350\n",
       "4  2004           197.8200"
      ]
     },
     "execution_count": 41,
     "metadata": {},
     "output_type": "execute_result"
    }
   ],
   "source": [
    "tampa_housing.rename(columns={'ATNHPIUS45300Q': 'House Price Index'}, inplace=True)\n",
    "tampa_housing['Year'] = pd.to_datetime(tampa_housing['DATE']).dt.year\n",
    "tampa_housing = tampa_housing[tampa_housing['Year'] >= 2000]\n",
    "tampa_housing = tampa_housing.select_dtypes(include='number').groupby('Year', as_index=False).mean()\n",
    "\n",
    "tampa_housing.head()"
   ]
  },
  {
   "cell_type": "code",
   "execution_count": 43,
   "id": "0484c6fe-6ee1-444e-bdf9-9640e3095f1d",
   "metadata": {},
   "outputs": [
    {
     "data": {
      "text/html": [
       "<div>\n",
       "<style scoped>\n",
       "    .dataframe tbody tr th:only-of-type {\n",
       "        vertical-align: middle;\n",
       "    }\n",
       "\n",
       "    .dataframe tbody tr th {\n",
       "        vertical-align: top;\n",
       "    }\n",
       "\n",
       "    .dataframe thead th {\n",
       "        text-align: right;\n",
       "    }\n",
       "</style>\n",
       "<table border=\"1\" class=\"dataframe\">\n",
       "  <thead>\n",
       "    <tr style=\"text-align: right;\">\n",
       "      <th></th>\n",
       "      <th>Year</th>\n",
       "      <th>House Price Index</th>\n",
       "      <th>Population</th>\n",
       "      <th>Annual Change</th>\n",
       "      <th>GDP in the Millions</th>\n",
       "    </tr>\n",
       "  </thead>\n",
       "  <tbody>\n",
       "    <tr>\n",
       "      <th>0</th>\n",
       "      <td>2001</td>\n",
       "      <td>144.1175</td>\n",
       "      <td>2106000</td>\n",
       "      <td>1.69</td>\n",
       "      <td>80171.426</td>\n",
       "    </tr>\n",
       "    <tr>\n",
       "      <th>1</th>\n",
       "      <td>2002</td>\n",
       "      <td>157.1775</td>\n",
       "      <td>2142000</td>\n",
       "      <td>1.71</td>\n",
       "      <td>85318.547</td>\n",
       "    </tr>\n",
       "    <tr>\n",
       "      <th>2</th>\n",
       "      <td>2003</td>\n",
       "      <td>171.2350</td>\n",
       "      <td>2179000</td>\n",
       "      <td>1.73</td>\n",
       "      <td>91144.945</td>\n",
       "    </tr>\n",
       "    <tr>\n",
       "      <th>3</th>\n",
       "      <td>2004</td>\n",
       "      <td>197.8200</td>\n",
       "      <td>2216000</td>\n",
       "      <td>1.70</td>\n",
       "      <td>99483.963</td>\n",
       "    </tr>\n",
       "    <tr>\n",
       "      <th>4</th>\n",
       "      <td>2005</td>\n",
       "      <td>243.2450</td>\n",
       "      <td>2253000</td>\n",
       "      <td>1.67</td>\n",
       "      <td>107620.219</td>\n",
       "    </tr>\n",
       "  </tbody>\n",
       "</table>\n",
       "</div>"
      ],
      "text/plain": [
       "   Year  House Price Index   Population   Annual Change  GDP in the Millions\n",
       "0  2001           144.1175      2106000            1.69            80171.426\n",
       "1  2002           157.1775      2142000            1.71            85318.547\n",
       "2  2003           171.2350      2179000            1.73            91144.945\n",
       "3  2004           197.8200      2216000            1.70            99483.963\n",
       "4  2005           243.2450      2253000            1.67           107620.219"
      ]
     },
     "execution_count": 43,
     "metadata": {},
     "output_type": "execute_result"
    }
   ],
   "source": [
    "merged_data = pd.merge(pd.merge(tampa_housing, df2000pop, on='Year'), tampa_gdp, on='Year')\n",
    "\n",
    "merged_data.head()"
   ]
  },
  {
   "cell_type": "code",
   "execution_count": 46,
   "id": "23b9a39d-7e05-4409-a38c-3d1d5a1d303c",
   "metadata": {},
   "outputs": [],
   "source": [
    "merged_data.to_excel('merged_data.xlsx', index=False)"
   ]
  },
  {
   "cell_type": "code",
   "execution_count": null,
   "id": "c5adc372-2996-4377-be27-9a79d86cf316",
   "metadata": {},
   "outputs": [],
   "source": []
  }
 ],
 "metadata": {
  "kernelspec": {
   "display_name": "Python 3 (ipykernel)",
   "language": "python",
   "name": "python3"
  },
  "language_info": {
   "codemirror_mode": {
    "name": "ipython",
    "version": 3
   },
   "file_extension": ".py",
   "mimetype": "text/x-python",
   "name": "python",
   "nbconvert_exporter": "python",
   "pygments_lexer": "ipython3",
   "version": "3.10.9"
  }
 },
 "nbformat": 4,
 "nbformat_minor": 5
}
